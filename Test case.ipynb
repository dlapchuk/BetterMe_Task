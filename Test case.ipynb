{
 "cells": [
  {
   "cell_type": "markdown",
   "metadata": {},
   "source": [
    "Import all necessary libraries"
   ]
  },
  {
   "cell_type": "code",
   "execution_count": 1,
   "metadata": {},
   "outputs": [],
   "source": [
    "import glob\n",
    "import pandas as pd\n",
    "import sqlite3\n",
    "from currency_converter import CurrencyConverter"
   ]
  },
  {
   "cell_type": "markdown",
   "metadata": {},
   "source": [
    "Read all data from folder to dataframe"
   ]
  },
  {
   "cell_type": "code",
   "execution_count": 2,
   "metadata": {},
   "outputs": [],
   "source": [
    "path = 'itunes_dataset'\n",
    "all_files = glob.glob(path + \"/*.txt\")\n",
    "li = []\n",
    "\n",
    "for filename in all_files:\n",
    "    df = pd.read_csv(filename, index_col=None, header=0, sep='\\t')\n",
    "    li.append(df)\n",
    "\n",
    "frame = pd.concat(li, axis=0, ignore_index=True, sort=False)"
   ]
  },
  {
   "cell_type": "markdown",
   "metadata": {},
   "source": [
    "Replace all spaces in column names and convert Date to datatime"
   ]
  },
  {
   "cell_type": "code",
   "execution_count": 3,
   "metadata": {},
   "outputs": [],
   "source": [
    "frame.columns = [column.replace(' ', '_') for column in frame.columns]\n",
    "frame['Event_Date'] =  pd.to_datetime(frame['Event_Date'], format='%Y-%m-%d')"
   ]
  },
  {
   "cell_type": "markdown",
   "metadata": {},
   "source": [
    "Create connection to Sqlite database"
   ]
  },
  {
   "cell_type": "code",
   "execution_count": 4,
   "metadata": {},
   "outputs": [],
   "source": [
    "cnx = sqlite3.connect(':memory:')\n",
    "db = sqlite3.connect('itunes_data.db')"
   ]
  },
  {
   "cell_type": "markdown",
   "metadata": {},
   "source": [
    "Separete App data and save it to App table."
   ]
  },
  {
   "cell_type": "code",
   "execution_count": 5,
   "metadata": {},
   "outputs": [],
   "source": [
    "App_columns = ['App_Name', 'App_Apple_ID']\n",
    "App=frame[App_columns].drop_duplicates().reset_index(drop=True)\n",
    "App.head()\n",
    "App.to_sql('App', db, if_exists='append', index=False)"
   ]
  },
  {
   "cell_type": "markdown",
   "metadata": {},
   "source": [
    "Separete Subscription data and save it to Subscription table."
   ]
  },
  {
   "cell_type": "code",
   "execution_count": 6,
   "metadata": {},
   "outputs": [],
   "source": [
    "subs_columns = [\"Subscription_Name\", \"Subscription_Apple_ID\", \"Subscription_Group_ID\", \"Subscription_Duration\"]\n",
    "Subscription=frame[subs_columns].drop_duplicates().reset_index(drop=True)\n",
    "Subscription.to_sql('Subscription', db, if_exists='append', index=False)"
   ]
  },
  {
   "cell_type": "markdown",
   "metadata": {},
   "source": [
    "Separete Countries data and save it to Countries table."
   ]
  },
  {
   "cell_type": "code",
   "execution_count": 7,
   "metadata": {},
   "outputs": [],
   "source": [
    "country_columns = [\"Country\", \"Customer_Currency\"]\n",
    "Countries=frame[country_columns].drop_duplicates().reset_index(drop=True)\n",
    "Countries.to_sql('Countries', db, if_exists='append', index=False)"
   ]
  },
  {
   "cell_type": "markdown",
   "metadata": {},
   "source": [
    "Convert all Customer_Price to prices in USD."
   ]
  },
  {
   "cell_type": "code",
   "execution_count": 8,
   "metadata": {},
   "outputs": [],
   "source": [
    "cc = CurrencyConverter('currencies.csv')\n",
    "\n",
    "def convert_to_dollars(row):\n",
    "    return cc.convert(row['Customer_Price'], row['Customer_Currency'], 'USD')\n",
    "\n",
    "frame['USD_Price'] = frame.apply(convert_to_dollars, axis=1)"
   ]
  },
  {
   "cell_type": "markdown",
   "metadata": {},
   "source": [
    "Separete all remaining columns and foreign keys and save them in Events table."
   ]
  },
  {
   "cell_type": "code",
   "execution_count": 9,
   "metadata": {},
   "outputs": [],
   "source": [
    "columns = ['App_Name',\n",
    " 'Subscription_Name',\n",
    " 'Subscription_Group_ID',\n",
    " 'Subscription_Duration',\n",
    " 'Customer_Currency']\n",
    "event_columns = [column for column in frame.columns if column not in columns]"
   ]
  },
  {
   "cell_type": "code",
   "execution_count": 10,
   "metadata": {},
   "outputs": [],
   "source": [
    "Event=frame[event_columns].drop_duplicates().reset_index(drop=True)\n",
    "Event.to_sql('Events', db, if_exists='append', index=False)"
   ]
  }
 ],
 "metadata": {
  "kernelspec": {
   "display_name": "Python 3",
   "language": "python",
   "name": "python3"
  },
  "language_info": {
   "codemirror_mode": {
    "name": "ipython",
    "version": 3
   },
   "file_extension": ".py",
   "mimetype": "text/x-python",
   "name": "python",
   "nbconvert_exporter": "python",
   "pygments_lexer": "ipython3",
   "version": "3.7.0"
  }
 },
 "nbformat": 4,
 "nbformat_minor": 2
}
